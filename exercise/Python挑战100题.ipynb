{
 "cells": [
  {
   "cell_type": "markdown",
   "metadata": {},
   "source": [
    "**1. 编写程序找出$[2000, 3200]$中能被7整除且不能被5整除的所有整数，并以逗号分隔输出成一行。**\n",
    "\n",
    ">**提示：**可以考虑使用`range(#begin, #end)`方法。"
   ]
  },
  {
   "cell_type": "code",
   "execution_count": 7,
   "metadata": {},
   "outputs": [
    {
     "name": "stdout",
     "output_type": "stream",
     "text": [
      "2002,2009,2016,2023,2037,2044,2051,2058,2072,2079,2086,2093,2107,2114,2121,2128,2142,2149,2156,2163,2177,2184,2191,2198,2212,2219,2226,2233,2247,2254,2261,2268,2282,2289,2296,2303,2317,2324,2331,2338,2352,2359,2366,2373,2387,2394,2401,2408,2422,2429,2436,2443,2457,2464,2471,2478,2492,2499,2506,2513,2527,2534,2541,2548,2562,2569,2576,2583,2597,2604,2611,2618,2632,2639,2646,2653,2667,2674,2681,2688,2702,2709,2716,2723,2737,2744,2751,2758,2772,2779,2786,2793,2807,2814,2821,2828,2842,2849,2856,2863,2877,2884,2891,2898,2912,2919,2926,2933,2947,2954,2961,2968,2982,2989,2996,3003,3017,3024,3031,3038,3052,3059,3066,3073,3087,3094,3101,3108,3122,3129,3136,3143,3157,3164,3171,3178,3192,3199\n"
     ]
    }
   ],
   "source": [
    "l = [] # 定义列表(list)\n",
    "for i in range(2000, 3201):\n",
    "    if i % 7 == 0 and i % 5 != 0:\n",
    "        l.append(str(i))\n",
    "print(\",\".join(l))"
   ]
  },
  {
   "cell_type": "markdown",
   "metadata": {},
   "source": [
    "**2. 对于输入的整数`n`，采用递归方式编写程序计算`n`的阶乘并输出。**\n",
    "\n",
    ">**提示：**采用`input()`获取输入，给出样例的运行结果。\n",
    "\n",
    ">**样例输入：**\n",
    "```python\n",
    "8\n",
    "```\n",
    "\n",
    ">**样例输出：**\n",
    "```python\n",
    "40320\n",
    "```"
   ]
  },
  {
   "cell_type": "code",
   "execution_count": 11,
   "metadata": {},
   "outputs": [
    {
     "name": "stdout",
     "output_type": "stream",
     "text": [
      "8\n",
      "40320\n"
     ]
    }
   ],
   "source": [
    "def fact(n):\n",
    "    if n == 0:\n",
    "        return 1\n",
    "    else:\n",
    "        return n * fact(n - 1)\n",
    "x = eval(input())\n",
    "print(fact(x))"
   ]
  },
  {
   "cell_type": "markdown",
   "metadata": {},
   "source": [
    "**3. 对于输入的整数`n`，生成一个包含`(i, i*i)`的字典，其中`i`是区间$[1, n]$内的整数，然后输出字典。**\n",
    "\n",
    ">**提示：**采用`input()`获取输入，给出样例的运行结果。\n",
    "\n",
    ">**样例输入：**\n",
    "```python\n",
    "8\n",
    "```\n",
    "\n",
    ">**样例输出：**\n",
    "```python\n",
    "{1: 1, 2: 4, 3: 9, 4: 16, 5: 25, 6: 36, 7: 49, 8: 64}\n",
    "```"
   ]
  },
  {
   "cell_type": "code",
   "execution_count": null,
   "metadata": {},
   "outputs": [],
   "source": []
  },
  {
   "cell_type": "markdown",
   "metadata": {},
   "source": [
    "**4. 对于输入的一个用逗号分隔的数字序列，生成包含每个数字的列表和元组并输出。**\n",
    "\n",
    ">**提示：**采用`input()`获取输入，给出样例的运行结果。`tuple()`方法可用来将列表转换为元组。\n",
    "\n",
    ">**样例输入：**\n",
    "```python\n",
    "34,67,55,33,12,98\n",
    "```\n",
    "\n",
    ">**样例输出：**\n",
    "```python\n",
    "['34'，'67'，'55'，'33'，'12'，'98']\n",
    "('34'，'67'，'55'，'33'，'12'，'98')\n",
    "```"
   ]
  },
  {
   "cell_type": "code",
   "execution_count": null,
   "metadata": {},
   "outputs": [],
   "source": []
  },
  {
   "cell_type": "markdown",
   "metadata": {},
   "source": [
    "**5. 定义一个名为`InOutString`的类，该类至少包含两个方法`getString`：从控制台输入获得一个字符串；`printString`：以大写字母方式打印字符串。**\n",
    "\n",
    "> **提示：**\n",
    "* 可以使用`init`方法来构造一些参数；\n",
    "* 除了完成类的定义外，还需要编写简单的测试函数来验证上述类方法的有效性，并给出样例的运行结果。\n",
    "\n",
    ">**样例输入：**\n",
    "```python\n",
    "Listeria monocytogenes\n",
    "```\n",
    "\n",
    ">**样例输出：**\n",
    "```python\n",
    "LISTERIA MONOCYTOGENES\n",
    "```"
   ]
  },
  {
   "cell_type": "code",
   "execution_count": null,
   "metadata": {},
   "outputs": [],
   "source": []
  },
  {
   "cell_type": "markdown",
   "metadata": {},
   "source": [
    "**6. 已知`Q`是`2 * C * D / H`的平方根，编写程序计算并输出`Q`的值，其中`C`和`H`是常量，它们的值分别为`50`和`30`。`D`是变量，它的值是一个输入的用逗号分隔的整数序列。**\n",
    "\n",
    ">**提示：**如果输出的`Q`值是小数，四舍五入处理为整数，给出样例的运行结果。\n",
    "\n",
    ">**样例输入：**\n",
    "```python\n",
    "100,150,180\n",
    "```\n",
    "\n",
    ">**样例输出：**\n",
    "```python\n",
    "18,22,24\n",
    "```"
   ]
  },
  {
   "cell_type": "code",
   "execution_count": 19,
   "metadata": {},
   "outputs": [
    {
     "name": "stdout",
     "output_type": "stream",
     "text": [
      "100,150,180\n",
      "18,22,24\n"
     ]
    }
   ],
   "source": [
    "import math\n",
    "C = 50\n",
    "H = 30\n",
    "D = input()\n",
    "D = D.split(\",\")\n",
    "l = []\n",
    "for d in D:\n",
    "    l.append(str(round(math.sqrt(2 * C * int(d) / H))))\n",
    "print(\",\".join(l))"
   ]
  },
  {
   "cell_type": "markdown",
   "metadata": {},
   "source": [
    "**7. 输入`X`和`Y`两个整数，用逗号分隔，生成一个2维数组，数组的第`i`行`j`列的元素值为`i*j`。**\n",
    "\n",
    ">**提示：**`i=0,1,...,X-1`，`j=0,1,...,Y-1`。\n",
    "\n",
    ">**样例输入：**\n",
    "```python\n",
    "3,5\n",
    "```\n",
    "\n",
    ">**样例输出：**\n",
    "```python\n",
    "[[0, 0, 0, 0, 0], [0, 1, 2, 3, 4], [0, 2, 4, 6, 8]]\n",
    "```"
   ]
  },
  {
   "cell_type": "code",
   "execution_count": null,
   "metadata": {},
   "outputs": [],
   "source": []
  },
  {
   "cell_type": "markdown",
   "metadata": {},
   "source": [
    "**8. 输入逗号分隔的单词序列，对这些单词按字母进行排序，然后再以逗号分隔的形式输出。**\n",
    "\n",
    ">**提示：**采用`input()`获取输入，给出样例的运行结果。\n",
    "\n",
    ">**样例输入：**\n",
    "```python\n",
    "without,hello,bag,world\n",
    "```\n",
    "\n",
    ">**样例输出：**\n",
    "```python\n",
    "bag,hello,without,world\n",
    "```"
   ]
  },
  {
   "cell_type": "code",
   "execution_count": 22,
   "metadata": {},
   "outputs": [
    {
     "name": "stdout",
     "output_type": "stream",
     "text": [
      "without,hello,bag,world\n",
      "bag,hello,without,world\n"
     ]
    }
   ],
   "source": [
    "x = input()\n",
    "word = x.split(\",\")\n",
    "word.sort()\n",
    "print(\",\".join(word))"
   ]
  },
  {
   "cell_type": "markdown",
   "metadata": {},
   "source": [
    "**9. 输入多行字符串，将每一行的字符变为大写，然后按行输出。**\n",
    "\n",
    ">**提示：**可以使用`input()`方法搭配`while`循环实现多行字符串输入，给出样例的运行结果。\n",
    "\n",
    ">**样例输入：**\n",
    "```python\n",
    "Hello\n",
    "world\n",
    "Practice\n",
    "makes\n",
    "perfect\n",
    "```\n",
    "\n",
    ">**样例输出：**\n",
    "```python\n",
    "HELLO\n",
    "WORLD\n",
    "PRACTICE\n",
    "MAKES\n",
    "PERFECT\n",
    "```"
   ]
  },
  {
   "cell_type": "code",
   "execution_count": 24,
   "metadata": {},
   "outputs": [
    {
     "name": "stdout",
     "output_type": "stream",
     "text": [
      "Hello\n",
      "world\n",
      "Practice\n",
      "makes\n",
      "perfect\n",
      "\n",
      "HELLO\n",
      "WORLD\n",
      "PRACTICE\n",
      "MAKES\n",
      "PERFECT\n"
     ]
    }
   ],
   "source": [
    "line = []\n",
    "while True:\n",
    "    s = input()\n",
    "    if s:\n",
    "        line.append(s.upper())\n",
    "    else:\n",
    "        break\n",
    "for i in line:\n",
    "    print(i)"
   ]
  },
  {
   "cell_type": "markdown",
   "metadata": {},
   "source": [
    "**10. 输入一个由空格分隔的单词序列，将重复的单词去掉，并且按照字母数字顺序进行排序后输出。**\n",
    "\n",
    ">**提示：**\n",
    "* 使用`set`来自动去重；\n",
    "* 使用`sorted()`方法来实现排序。\n",
    "\n",
    ">**样例输入：**\n",
    "```python\n",
    "hello world and practice makes perfect and hello world again\n",
    "```\n",
    "\n",
    ">**样例输出：**\n",
    "```python\n",
    "again and hello makes perfect practice world\n",
    "```\n",
    "\n"
   ]
  },
  {
   "cell_type": "code",
   "execution_count": null,
   "metadata": {},
   "outputs": [],
   "source": []
  },
  {
   "cell_type": "markdown",
   "metadata": {},
   "source": [
    "**11. 输入一个由逗号分隔的4位二进制数序列，请判断它们是否能被5整除。输出能被5整除的数，并用逗号分隔。**\n",
    "\n",
    ">**提示：**采用`input()`获取输入，给出样例的运行结果。\n",
    "\n",
    ">**样例输入：**\n",
    "```python\n",
    "0100,0011,1010,1001\n",
    "```\n",
    "\n",
    ">**样例输出：**\n",
    "```python\n",
    "1010\n",
    "```"
   ]
  },
  {
   "cell_type": "code",
   "execution_count": 28,
   "metadata": {},
   "outputs": [
    {
     "name": "stdout",
     "output_type": "stream",
     "text": [
      "0100,0011,1010,1001\n",
      "1010\n"
     ]
    }
   ],
   "source": [
    "x = input()\n",
    "value = x.split(\",\")\n",
    "l = []\n",
    "for v in value:\n",
    "    t = int(v, 2)\n",
    "    if t % 5 == 0:\n",
    "        l.append(v)\n",
    "print(\",\".join(l))"
   ]
  },
  {
   "cell_type": "markdown",
   "metadata": {},
   "source": [
    "**12. 请在$[1000,3000]$区间内的整数中，编程找出那些每个数位都是偶数的整数，采用单行逗号分隔的形式输出。**"
   ]
  },
  {
   "cell_type": "code",
   "execution_count": 30,
   "metadata": {},
   "outputs": [
    {
     "name": "stdout",
     "output_type": "stream",
     "text": [
      "2000,2002,2004,2006,2008,2020,2022,2024,2026,2028,2040,2042,2044,2046,2048,2060,2062,2064,2066,2068,2080,2082,2084,2086,2088,2200,2202,2204,2206,2208,2220,2222,2224,2226,2228,2240,2242,2244,2246,2248,2260,2262,2264,2266,2268,2280,2282,2284,2286,2288,2400,2402,2404,2406,2408,2420,2422,2424,2426,2428,2440,2442,2444,2446,2448,2460,2462,2464,2466,2468,2480,2482,2484,2486,2488,2600,2602,2604,2606,2608,2620,2622,2624,2626,2628,2640,2642,2644,2646,2648,2660,2662,2664,2666,2668,2680,2682,2684,2686,2688,2800,2802,2804,2806,2808,2820,2822,2824,2826,2828,2840,2842,2844,2846,2848,2860,2862,2864,2866,2868,2880,2882,2884,2886,2888\n"
     ]
    }
   ],
   "source": [
    "l = []\n",
    "for i in range(1000, 3001):\n",
    "    digit1 = i // 1000\n",
    "    digit2 = i // 100 % 10\n",
    "    digit3 = i % 100 // 10\n",
    "    digit4 = i % 10\n",
    "    if digit1 % 2 == 0 and digit2 % 2 == 0 and digit3 % 2 == 0 and digit4 % 2 == 0:\n",
    "        l.append(str(i))\n",
    "print(\",\".join(l))"
   ]
  },
  {
   "cell_type": "code",
   "execution_count": 32,
   "metadata": {},
   "outputs": [
    {
     "name": "stdout",
     "output_type": "stream",
     "text": [
      "2000,2002,2004,2006,2008,2020,2022,2024,2026,2028,2040,2042,2044,2046,2048,2060,2062,2064,2066,2068,2080,2082,2084,2086,2088,2200,2202,2204,2206,2208,2220,2222,2224,2226,2228,2240,2242,2244,2246,2248,2260,2262,2264,2266,2268,2280,2282,2284,2286,2288,2400,2402,2404,2406,2408,2420,2422,2424,2426,2428,2440,2442,2444,2446,2448,2460,2462,2464,2466,2468,2480,2482,2484,2486,2488,2600,2602,2604,2606,2608,2620,2622,2624,2626,2628,2640,2642,2644,2646,2648,2660,2662,2664,2666,2668,2680,2682,2684,2686,2688,2800,2802,2804,2806,2808,2820,2822,2824,2826,2828,2840,2842,2844,2846,2848,2860,2862,2864,2866,2868,2880,2882,2884,2886,2888\n"
     ]
    }
   ],
   "source": [
    "l = []\n",
    "for i in range(1000, 3001):\n",
    "    s = str(i)\n",
    "    if int(s[0]) % 2 == 0 and int(s[1]) % 2 == 0 and int(s[2]) % 2 == 0 and int(s[3]) % 2 == 0:\n",
    "        l.append(s)\n",
    "print(\",\".join(l))"
   ]
  },
  {
   "cell_type": "markdown",
   "metadata": {},
   "source": [
    "**13. 输入一个字符串，编程统计字符串中数字和字母的个数并输出。**\n",
    "\n",
    ">**提示：**采用`input()`获取输入，给出样例的运行结果。\n",
    "\n",
    ">**样例输入：**\n",
    "```python\n",
    "hello world! 123\n",
    "```\n",
    "\n",
    ">**样例输出：**\n",
    "```python\n",
    "LETTERS 10 DIGITS 3\n",
    "```"
   ]
  },
  {
   "cell_type": "code",
   "execution_count": 33,
   "metadata": {},
   "outputs": [
    {
     "name": "stdout",
     "output_type": "stream",
     "text": [
      "hello world! 123\n",
      "LETTERS 10 DIGITS 3\n"
     ]
    }
   ],
   "source": [
    "x = input()\n",
    "sum_shuzi = 0\n",
    "sum_zimu = 0\n",
    "for i in x:\n",
    "    if ord(i) >= ord(\"0\") and ord(i) <= ord(\"9\"):\n",
    "        sum_shuzi = sum_shuzi + 1\n",
    "    elif ord(i) >= ord(\"a\") and ord(i) <= ord(\"z\"):\n",
    "        sum_zimu = sum_zimu + 1\n",
    "    elif ord(i) >= ord(\"A\") and ord(i) <= ord(\"z\"):\n",
    "        sum_zimu = sum_zimu + 1\n",
    "print(\"LETTERS {:} DIGITS {:}\".format(sum_zimu, sum_shuzi))"
   ]
  },
  {
   "cell_type": "markdown",
   "metadata": {},
   "source": [
    "**14. 输入一个字符串，编程统计字符串中大写和小写字母的个数并输出。**\n",
    "\n",
    ">**提示：**采用`input()`获取输入，给出样例的运行结果。\n",
    "\n",
    ">**样例输入：**\n",
    "```python\n",
    "Hello world!\n",
    "```\n",
    "\n",
    ">**样例输出：**\n",
    "```python\n",
    "UPPER CASE 1 LOWER CASE 9\n",
    "```"
   ]
  },
  {
   "cell_type": "code",
   "execution_count": null,
   "metadata": {},
   "outputs": [],
   "source": []
  },
  {
   "cell_type": "markdown",
   "metadata": {},
   "source": [
    "**15. 对于一个输入的数字`a`，编程计算并输出`a+aa+aaa+aaaa`的值。**\n",
    "\n",
    ">**提示：**采用`input()`获取输入，给出样例的运行结果。\n",
    "\n",
    ">**样例输入：**\n",
    "```python\n",
    "9\n",
    "```\n",
    "\n",
    ">**样例输出：**\n",
    "```python\n",
    "11106\n",
    "```"
   ]
  },
  {
   "cell_type": "code",
   "execution_count": 35,
   "metadata": {},
   "outputs": [
    {
     "name": "stdout",
     "output_type": "stream",
     "text": [
      "9\n",
      "11106\n"
     ]
    }
   ],
   "source": [
    "a = input()\n",
    "aa = a + a\n",
    "aaa = a + a + a\n",
    "aaaa = a + a + a + a\n",
    "suma = int(a) + int(aa) + int(aaa) + int(aaaa)\n",
    "print(suma)"
   ]
  },
  {
   "cell_type": "markdown",
   "metadata": {},
   "source": [
    "**16. 对于一个输入的逗号分隔的整数序列，请使用列表推导式找出列表中的奇数，并以单行逗号分隔的形式输出。**\n",
    "\n",
    ">**提示：**采用`input()`获取输入，给出样例的运行结果。\n",
    "\n",
    ">**样例输入：**\n",
    "```python\n",
    "1,2,3,4,5,6,7,8,9\n",
    "```\n",
    "\n",
    ">**样例输出：**\n",
    "```python\n",
    "1,3,5,7,9\n",
    "```"
   ]
  },
  {
   "cell_type": "code",
   "execution_count": null,
   "metadata": {},
   "outputs": [],
   "source": []
  },
  {
   "cell_type": "markdown",
   "metadata": {},
   "source": [
    "**17. 编写程序根据输入的交易日志信息，计算银行账户的净金额。交易信息格式为`D 100 W 200`，`D`表示存款，`W`表示取款。**\n",
    "\n",
    ">**提示：**可以采用`input()`和`while`搭配的形式获取输入，给出样例的运行结果。\n",
    "\n",
    ">**样例输入：**\n",
    "```python\n",
    "D 300\n",
    "D 300\n",
    "W 200\n",
    "D 100\n",
    "```\n",
    "\n",
    ">**样例输出：**\n",
    "```python\n",
    "500\n",
    "```"
   ]
  },
  {
   "cell_type": "code",
   "execution_count": null,
   "metadata": {},
   "outputs": [],
   "source": []
  },
  {
   "cell_type": "markdown",
   "metadata": {},
   "source": [
    "**18. 一个网站需要用户输入用户名和密码来完成注册，编写程序来验证用户输入的密码是否有效。判断密码是否有效的标准如下：至少包含一个`[a-z]`的小写字母；至少包含一个`[0-9]`的数字；至少包含一个`[A-Z]`的大写字母；至少包含`[$#@]`中的一个字符；密码长度最小为6，最大为12。程序的输入为一个逗号分隔的密码序列，将符合标准的密码以单行逗号分隔的形式输出。**\n",
    "\n",
    ">**提示：**可以采用`input()`获取输入，给出样例的运行结果。\n",
    "\n",
    ">**样例输入：**\n",
    "```python\n",
    "ABd1234@1,a F1#,2w3E*,2We3345\n",
    "```\n",
    "\n",
    ">**样例输出：**\n",
    "```python\n",
    "ABd1234@1\n",
    "```"
   ]
  },
  {
   "cell_type": "code",
   "execution_count": null,
   "metadata": {},
   "outputs": [],
   "source": []
  },
  {
   "cell_type": "markdown",
   "metadata": {},
   "source": [
    "**19. 编写程序对元组`(name, age, score)`进行升序排序，其中`name`是字符串，`age`和`score`是数值，元组由控制台输入。排序标准如下：根据`name`排序；根据`age`排序；根据`score`排序；排序的优先级是`name>age>score`。**\n",
    "    \n",
    ">**提示：**\n",
    "* 可以采用`input()`和`while`相结合获取输入，给出样例的运行结果。\n",
    "* 可以考虑使用`itemgetter`和`attrgetter`实现。\n",
    "\n",
    ">**样例输入：**\n",
    "```python\n",
    "Tom,19,80\n",
    "John,20,90\n",
    "Jony,17,91\n",
    "Jony,17,93\n",
    "Json,21,85\n",
    "```\n",
    "\n",
    ">**样例输出：**\n",
    "```python\n",
    "[('John', '20', '90'), ('Jony', '17', '91'), ('Jony', '17', '93'), ('Json', '21', '85'), ('Tom', '19', '80')]\n",
    "```"
   ]
  },
  {
   "cell_type": "code",
   "execution_count": null,
   "metadata": {},
   "outputs": [],
   "source": []
  },
  {
   "cell_type": "markdown",
   "metadata": {},
   "source": [
    "**20. 定义一个带有生成器的类，它可以在给定范围`0`到`n`之间迭代能被7整除的数字。**\n",
    "\n",
    ">**提示：**可以考虑使用`yield`实现。"
   ]
  },
  {
   "cell_type": "code",
   "execution_count": null,
   "metadata": {},
   "outputs": [],
   "source": []
  },
  {
   "cell_type": "markdown",
   "metadata": {},
   "source": [
    "**21. 现在有一个机器人，它从原点`(0, 0)`开始再平面上运动。机器人可以根据给定的步骤上（UP）、下（DOWN）、左（LEFT）、右（RIGHT）移动。例如机器人的运动轨迹是“UP 5 DOWN 3 LEFT 3 RIGHT 2”，方向后面的数字是在该方向上的移动步数。请编写程序计算经过一系列运动后，当前位置距离原点的距离。如果距离是浮点数，那么输出其最接近的整数。**\n",
    "\n",
    ">**提示：**可以采用`input()`和`while`结合获取输入，给出样例的运行结果。\n",
    "\n",
    ">**样例输入：**\n",
    "```python\n",
    "UP 5\n",
    "DOWN 3\n",
    "LEFT 3\n",
    "RIGHT 2\n",
    "```\n",
    "\n",
    ">**样例输出：**\n",
    "```python\n",
    "2\n",
    "```"
   ]
  },
  {
   "cell_type": "code",
   "execution_count": null,
   "metadata": {},
   "outputs": [],
   "source": []
  },
  {
   "cell_type": "markdown",
   "metadata": {},
   "source": [
    "**22. 编写程序统计输入内容中单词出现的频率，输出结果按照字典key的字母数字顺序进行排序。**\n",
    "\n",
    ">**提示：**可以采用`input()`获取输入，给出样例的运行结果。\n",
    "\n",
    ">**样例输入：**\n",
    "```python\n",
    "New to Python or choosing between Python 2 and Python 3? Read Python 2 or Python 3.\n",
    "```\n",
    "\n",
    ">**样例输出：**\n",
    "```python\n",
    "2:2 3.:1 3?:1 New:1 Python:5 Read:1 and:1 between:1 choosing:1 or:2 to:1\n",
    "```"
   ]
  },
  {
   "cell_type": "code",
   "execution_count": null,
   "metadata": {},
   "outputs": [],
   "source": []
  },
  {
   "cell_type": "markdown",
   "metadata": {},
   "source": [
    "**23. 编写程序计算输入数值的平方值。**\n",
    "\n",
    ">**提示：**\n",
    "* 可以采用`input()`获取输入，给出样例的运行结果。\n",
    "* 可以考虑使用运算符`**`\n",
    "\n",
    ">**样例输入：**\n",
    "```python\n",
    "3\n",
    "```\n",
    "\n",
    ">**样例输出：**\n",
    "```python\n",
    "9\n",
    "```                                           "
   ]
  },
  {
   "cell_type": "code",
   "execution_count": null,
   "metadata": {},
   "outputs": [],
   "source": []
  },
  {
   "cell_type": "markdown",
   "metadata": {},
   "source": [
    "**24. Python有很多内置函数，如果你不知道如何使用它们，你可以查阅在线文档或者参考书，此外Python为每个内置函数提供了对应的文档，还可以为自己编写的函数添加说明文档。**\n",
    "\n",
    "**（1）请编写程序打印内置函数`abs()`、`int()`和`raw_input()`的内置函数文档。**"
   ]
  },
  {
   "cell_type": "code",
   "execution_count": 3,
   "metadata": {},
   "outputs": [
    {
     "name": "stdout",
     "output_type": "stream",
     "text": [
      "Return the absolute value of the argument.\n",
      "int([x]) -> integer\n",
      "int(x, base=10) -> integer\n",
      "\n",
      "Convert a number or string to an integer, or return 0 if no arguments\n",
      "are given.  If x is a number, return x.__int__().  For floating point\n",
      "numbers, this truncates towards zero.\n",
      "\n",
      "If x is not a number or if base is given, then x must be a string,\n",
      "bytes, or bytearray instance representing an integer literal in the\n",
      "given base.  The literal can be preceded by '+' or '-' and be surrounded\n",
      "by whitespace.  The base defaults to 10.  Valid bases are 0 and 2-36.\n",
      "Base 0 means to interpret the base from the string as an integer literal.\n",
      ">>> int('0b100', base=0)\n",
      "4\n",
      "Forward raw_input to frontends\n",
      "\n",
      "        Raises\n",
      "        ------\n",
      "        StdinNotImplementedError if active frontend doesn't support stdin.\n",
      "        \n"
     ]
    }
   ],
   "source": [
    "\n",
    "print(abs.__doc__)\n",
    "print(int.__doc__)\n",
    "print(input.__doc__)\n"
   ]
  },
  {
   "cell_type": "markdown",
   "metadata": {},
   "source": [
    "**（2）编写自定义函数`square`，实现对传入参数数据计算平方值并返回，并且为该函数添加说明文档。调用该函数，并打印该函数的说明文档。**"
   ]
  },
  {
   "cell_type": "code",
   "execution_count": 4,
   "metadata": {},
   "outputs": [
    {
     "name": "stdout",
     "output_type": "stream",
     "text": [
      "9\n",
      "\n",
      "    我觉得OK 玛卡巴卡\n",
      "    \n"
     ]
    }
   ],
   "source": [
    "def square(num):\n",
    "    \"\"\"\n",
    "    我觉得OK 玛卡巴卡\n",
    "    \"\"\"\n",
    "    return num**2\n",
    "print(square(3))\n",
    "print(square.__doc__)"
   ]
  },
  {
   "cell_type": "markdown",
   "metadata": {},
   "source": [
    "**25. 定义一个`Person`类，它拥有一个类参数`name`，并且类参数`name`的值为`\"Person\"`。与此同时，`Person`类还拥有一个相同的实例参数`name`。请给出`Person`类的定义，如果运行下面的代码，**\n",
    "```python\n",
    "jeffrey = Person(\"Jeffrey\")\n",
    "print(\"%s name is %s\" % (Person.name, jeffrey.name))\n",
    "```\n",
    "**可以输出`Person name is Jeffrey`。**\n"
   ]
  },
  {
   "cell_type": "code",
   "execution_count": 15,
   "metadata": {},
   "outputs": [
    {
     "name": "stdout",
     "output_type": "stream",
     "text": [
      "Person name is Jeffrey\n"
     ]
    }
   ],
   "source": [
    "class Person:\n",
    "    name = \"Person\"\n",
    "    def __init__(self,name = None):\n",
    "        self.name = name\n",
    "jeffrey = Person(\"Jeffrey\")\n",
    "print(\"%s name is %s\"%(Person.name, jeffrey.name))"
   ]
  },
  {
   "cell_type": "markdown",
   "metadata": {},
   "source": [
    "**26. 定义名为`SumFunction`的函数，该函数有两个参数`a`和`b`，且该函数能够计算并返回两个数的和。**  "
   ]
  },
  {
   "cell_type": "code",
   "execution_count": 5,
   "metadata": {},
   "outputs": [
    {
     "name": "stdout",
     "output_type": "stream",
     "text": [
      "3\n"
     ]
    }
   ],
   "source": [
    "# 请在此处编写函数SumFunction的定义\n",
    "def SumFunction(a,b):\n",
    "    return a+b\n",
    "\n",
    "print(SumFunction(1, 2))"
   ]
  },
  {
   "cell_type": "markdown",
   "metadata": {},
   "source": [
    "**27. 定义名为`printValue`的函数，该函数可以将整数转换为字符串并输出。**\n",
    "\n",
    ">**提示**：使用`str()`将数字转换为字符串。"
   ]
  },
  {
   "cell_type": "code",
   "execution_count": 7,
   "metadata": {},
   "outputs": [
    {
     "name": "stdout",
     "output_type": "stream",
     "text": [
      "3\n"
     ]
    }
   ],
   "source": [
    "# 请在此处编写函数printValue的定义\n",
    "def printValue(num):\n",
    "    print(str(num))\n",
    "\n",
    "printValue(3)"
   ]
  },
  {
   "cell_type": "markdown",
   "metadata": {},
   "source": [
    "**28. 定义名为`printValue`的函数，该函数可以将字符串转换为数字并输出。**\n",
    "\n",
    ">**提示**：使用`int()`将字符串转换为整型。"
   ]
  },
  {
   "cell_type": "code",
   "execution_count": 8,
   "metadata": {},
   "outputs": [
    {
     "name": "stdout",
     "output_type": "stream",
     "text": [
      "3\n"
     ]
    }
   ],
   "source": [
    "# 请在此处编写函数printValue的定义\n",
    "def printValue(num):\n",
    "    print(int(num))\n",
    "printValue(\"3\")"
   ]
  },
  {
   "cell_type": "markdown",
   "metadata": {},
   "source": [
    "**29. 定义名为`printValue`的函数，该函数可以接收两个字符串形式的整数并计算它们的总和，然后打印出来。**\n",
    "\n",
    ">**提示**：使用`int()`将字符串转换为整数。"
   ]
  },
  {
   "cell_type": "code",
   "execution_count": 9,
   "metadata": {},
   "outputs": [
    {
     "name": "stdout",
     "output_type": "stream",
     "text": [
      "7\n"
     ]
    }
   ],
   "source": [
    "# 请在此处编写函数printValue的定义\n",
    "def printValue(num1,num2):\n",
    "    print(int(num1)+int(num2))\n",
    "\n",
    "printValue(\"3\", \"4\")"
   ]
  },
  {
   "cell_type": "markdown",
   "metadata": {},
   "source": [
    "**30. 定义名为`printValue`的函数，该函数可以接受两个字符串作为输入并将其连接起来，然后将其打印出来。**\n",
    "\n",
    ">**提示**：使用`+`链接字符串。"
   ]
  },
  {
   "cell_type": "code",
   "execution_count": 10,
   "metadata": {},
   "outputs": [
    {
     "name": "stdout",
     "output_type": "stream",
     "text": [
      "34\n"
     ]
    }
   ],
   "source": [
    "# 请在此处编写函数printValue的定义\n",
    "def printValue(num1,num2):\n",
    "    print(num1+num2)\n",
    "\n",
    "printValue(\"3\", \"4\")"
   ]
  },
  {
   "cell_type": "code",
   "execution_count": null,
   "metadata": {},
   "outputs": [],
   "source": []
  }
 ],
 "metadata": {
  "kernelspec": {
   "display_name": "Python 3 (ipykernel)",
   "language": "python",
   "name": "python3"
  },
  "language_info": {
   "codemirror_mode": {
    "name": "ipython",
    "version": 3
   },
   "file_extension": ".py",
   "mimetype": "text/x-python",
   "name": "python",
   "nbconvert_exporter": "python",
   "pygments_lexer": "ipython3",
   "version": "3.9.7"
  }
 },
 "nbformat": 4,
 "nbformat_minor": 2
}
